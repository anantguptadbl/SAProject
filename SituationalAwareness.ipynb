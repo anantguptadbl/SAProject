{
 "cells": [
  {
   "cell_type": "code",
   "execution_count": 5,
   "metadata": {
    "collapsed": true
   },
   "outputs": [
    {
     "name": "stdout",
     "output_type": "stream",
     "text": [
      "@prefix ns1: <http://xmlns.com/foaf/0.1/> .\n",
      "@prefix rdf: <http://www.w3.org/1999/02/22-rdf-syntax-ns#> .\n",
      "@prefix rdfs: <http://www.w3.org/2000/01/rdf-schema#> .\n",
      "@prefix xml: <http://www.w3.org/XML/1998/namespace> .\n",
      "@prefix xsd: <http://www.w3.org/2001/XMLSchema#> .\n",
      "\n",
      "<http://example.org/people/Bob> a ns1:Person ;\n",
      "    ns1:knows [ a ns1:Person ;\n",
      "            ns1:name \"Linda\" ] ;\n",
      "    ns1:name \"Bob\" .\n",
      "\n",
      "\n"
     ]
    }
   ],
   "source": [
    "# We will create a very simple RDF load it and make it availabe for querying through the frontend\n",
    "import rdflib\n",
    "from rdflib import URIRef, BNode, Literal\n",
    "from rdflib.namespace import RDF, FOAF\n",
    "from rdflib import Graph\n",
    "\n",
    "bob = URIRef(\"http://example.org/people/Bob\")\n",
    "linda = BNode() # a GUID is generated\n",
    "\n",
    "name = Literal('Bob') # passing a string\n",
    "age = Literal(24) # passing a python int\n",
    "height = Literal(76.5) # passing a python float\n",
    "\n",
    "\n",
    "g = Graph()\n",
    "\n",
    "g.add( (bob, RDF.type, FOAF.Person) )\n",
    "g.add( (bob, FOAF.name, name) )\n",
    "g.add( (bob, FOAF.knows, linda) )\n",
    "g.add( (linda, RDF.type, FOAF.Person) )\n",
    "g.add( (linda, FOAF.name, Literal('Linda') ) )\n"
   ]
  },
  {
   "cell_type": "code",
   "execution_count": 13,
   "metadata": {},
   "outputs": [],
   "source": []
  },
  {
   "cell_type": "code",
   "execution_count": null,
   "metadata": {},
   "outputs": [],
   "source": [
    "# We will also store the data as a simple numpy array/pandas dataframe\n",
    "\n",
    "data=[\n",
    "    ['appleInc','type','company'],\n",
    "    ['appleInc','products','Iphone'],\n",
    "    ['appleInc','products','Ipad'],\n",
    "    ['microsoft','type','company'],\n",
    "    ['microsoft','products','Windows'],\n",
    "    ['microsoft','products','Surface']\n",
    "]\n",
    "\n"
   ]
  }
 ],
 "metadata": {
  "kernelspec": {
   "display_name": "Python 2",
   "language": "python",
   "name": "python2"
  },
  "language_info": {
   "codemirror_mode": {
    "name": "ipython",
    "version": 2
   },
   "file_extension": ".py",
   "mimetype": "text/x-python",
   "name": "python",
   "nbconvert_exporter": "python",
   "pygments_lexer": "ipython2",
   "version": "2.7.3"
  }
 },
 "nbformat": 4,
 "nbformat_minor": 2
}
