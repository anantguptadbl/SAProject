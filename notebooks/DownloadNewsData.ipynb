{
 "cells": [
  {
   "cell_type": "code",
   "execution_count": 86,
   "metadata": {},
   "outputs": [],
   "source": [
    "import pandas as pd\n",
    "from selenium import webdriver\n",
    "import os\n",
    "import time\n",
    "import urllib2\n",
    "from bs4 import BeautifulSoup\n",
    "\n",
    "news=pd.read_csv('/home/anantgupta/Documents/Programming/Projects/situationalAwareness/SAProject/data/kaggle/uci-news-aggregator.csv')"
   ]
  },
  {
   "cell_type": "code",
   "execution_count": 87,
   "metadata": {},
   "outputs": [],
   "source": [
    "path_to_phatomJS='/home/anantgupta/Documents/Programming/Projects/situationalAwareness/SAProject/flaskapp/phantomjs'\n",
    "\n",
    "def getPageData(URL):\n",
    "    browser = webdriver.PhantomJS(executable_path = path_to_phatomJS,service_log_path=os.path.devnull)\n",
    "    browser.get(URL)\n",
    "    pageContents=browser.page_source\n",
    "    browser.close()\n",
    "    browser.quit()\n",
    "    return(pageContents)\n",
    "\n",
    "def getTextData(URL):\n",
    "    FullData=[]\n",
    "    pageContents=getPageData(URL)\n",
    "    if(len(pageContents) > 400):\n",
    "        soup = BeautifulSoup(pageContents, \"html.parser\")\n",
    "        ignoreList=['html','head','script','meta','link','style','body','header','img']\n",
    "        ignoreWords=['CDATA','function']\n",
    "        for x in soup.find_all():\n",
    "            if(x.name not in ignoreList):\n",
    "                if(len(x.text) > 200 and 'CDATA' not in x.text and 'function' not in x.text):\n",
    "                    FullData.append(' '.join(x.text.strip().replace('\\n',' ').split()))\n",
    "        FullData=list(set(FullData))\n",
    "    return(FullData)"
   ]
  },
  {
   "cell_type": "code",
   "execution_count": 88,
   "metadata": {
    "collapsed": true
   },
   "outputs": [
    {
     "name": "stdout",
     "output_type": "stream",
     "text": [
      "There is some error. Will sleep for 30 seconds\n",
      "There is some error. Will sleep for 30 seconds\n",
      "There is some error. Will sleep for 30 seconds\n",
      "There is some error. Will sleep for 30 seconds\n",
      "There is some error. Will sleep for 30 seconds\n",
      "There is some error. Will sleep for 30 seconds\n",
      "There is some error. Will sleep for 30 seconds\n",
      "There is some error. Will sleep for 30 seconds\n",
      "There is some error. Will sleep for 30 seconds\n",
      "There is some error. Will sleep for 30 seconds\n",
      "There is some error. Will sleep for 30 seconds\n",
      "There is some error. Will sleep for 30 seconds\n",
      "There is some error. Will sleep for 30 seconds\n",
      "There is some error. Will sleep for 30 seconds\n",
      "There is some error. Will sleep for 30 seconds\n",
      "There is some error. Will sleep for 30 seconds\n"
     ]
    },
    {
     "ename": "KeyboardInterrupt",
     "evalue": "",
     "output_type": "error",
     "traceback": [
      "\u001b[0;31m---------------------------------------------------------------------------\u001b[0m",
      "\u001b[0;31mKeyboardInterrupt\u001b[0m                         Traceback (most recent call last)",
      "\u001b[0;32m<ipython-input-88-7a6af6252e48>\u001b[0m in \u001b[0;36m<module>\u001b[0;34m()\u001b[0m\n\u001b[1;32m     16\u001b[0m     \u001b[0;32mexcept\u001b[0m\u001b[0;34m:\u001b[0m\u001b[0;34m\u001b[0m\u001b[0m\n\u001b[1;32m     17\u001b[0m         \u001b[0;32mprint\u001b[0m\u001b[0;34m(\u001b[0m\u001b[0;34m\"There is some error. Will sleep for 30 seconds\"\u001b[0m\u001b[0;34m)\u001b[0m\u001b[0;34m\u001b[0m\u001b[0m\n\u001b[0;32m---> 18\u001b[0;31m         \u001b[0mtime\u001b[0m\u001b[0;34m.\u001b[0m\u001b[0msleep\u001b[0m\u001b[0;34m(\u001b[0m\u001b[0;36m30\u001b[0m\u001b[0;34m)\u001b[0m\u001b[0;34m\u001b[0m\u001b[0m\n\u001b[0m\u001b[1;32m     19\u001b[0m \u001b[0;32mprint\u001b[0m\u001b[0;34m(\u001b[0m\u001b[0;34m\"Writing to file {} with shape {}\"\u001b[0m\u001b[0;34m.\u001b[0m\u001b[0mformat\u001b[0m\u001b[0;34m(\u001b[0m\u001b[0mfileCounter\u001b[0m\u001b[0;34m,\u001b[0m\u001b[0mFullData\u001b[0m\u001b[0;34m.\u001b[0m\u001b[0mshape\u001b[0m\u001b[0;34m[\u001b[0m\u001b[0;36m0\u001b[0m\u001b[0;34m]\u001b[0m\u001b[0;34m)\u001b[0m\u001b[0;34m)\u001b[0m\u001b[0;34m\u001b[0m\u001b[0m\n\u001b[1;32m     20\u001b[0m \u001b[0mFullData\u001b[0m\u001b[0;34m[\u001b[0m\u001b[0;34m'text'\u001b[0m\u001b[0;34m]\u001b[0m\u001b[0;34m=\u001b[0m\u001b[0mFullData\u001b[0m\u001b[0;34m[\u001b[0m\u001b[0;34m'text'\u001b[0m\u001b[0;34m]\u001b[0m\u001b[0;34m.\u001b[0m\u001b[0mmap\u001b[0m\u001b[0;34m(\u001b[0m\u001b[0;32mlambda\u001b[0m \u001b[0mx\u001b[0m \u001b[0;34m:\u001b[0m \u001b[0;34m''\u001b[0m\u001b[0;34m.\u001b[0m\u001b[0mjoin\u001b[0m\u001b[0;34m(\u001b[0m\u001b[0;34m[\u001b[0m\u001b[0my\u001b[0m \u001b[0;32mfor\u001b[0m \u001b[0my\u001b[0m \u001b[0;32min\u001b[0m \u001b[0mx\u001b[0m \u001b[0;32mif\u001b[0m \u001b[0mord\u001b[0m\u001b[0;34m(\u001b[0m\u001b[0my\u001b[0m\u001b[0;34m)\u001b[0m \u001b[0;34m>=\u001b[0m \u001b[0;36m32\u001b[0m \u001b[0;32mand\u001b[0m \u001b[0mord\u001b[0m\u001b[0;34m(\u001b[0m\u001b[0my\u001b[0m\u001b[0;34m)\u001b[0m \u001b[0;34m<\u001b[0m \u001b[0;36m126\u001b[0m\u001b[0;34m]\u001b[0m\u001b[0;34m)\u001b[0m\u001b[0;34m)\u001b[0m\u001b[0;34m\u001b[0m\u001b[0m\n",
      "\u001b[0;31mKeyboardInterrupt\u001b[0m: "
     ]
    }
   ],
   "source": [
    "import time\n",
    "FullData=pd.DataFrame(columns=['text','link'])\n",
    "fileCounter=0\n",
    "for link in news['URL'].values:\n",
    "    try:\n",
    "        data=pd.DataFrame(getTextData(link),columns=['text'])\n",
    "        data['link']=link\n",
    "        FullData=pd.concat([FullData,data])\n",
    "        if(FullData.shape[0] > 100000):\n",
    "            print(\"Writing to file {} with shape {}\".format(fileCounter,FullData.shape[0]))\n",
    "            FullData['text']=FullData['text'].map(lambda x : ''.join([y for y in x if ord(y) >= 32 and ord(y) <= 126]))\n",
    "            FullData.to_csv('/home/anantgupta/Documents/Programming/Projects/situationalAwareness/SAProject/data/kaggle/uciNews_{}.txt'.format(fileCounter),index=False)\n",
    "            FullData=pd.DataFrame(columns=['text','link'])\n",
    "            fileCounter=fileCounter + 1\n",
    "            print(\"Written to file\")\n",
    "    except:\n",
    "        print(\"There is some error. Will sleep for 30 seconds\")\n",
    "        time.sleep(30)\n",
    "print(\"Writing to file {} with shape {}\".format(fileCounter,FullData.shape[0]))        \n",
    "FullData['text']=FullData['text'].map(lambda x : ''.join([y for y in x if ord(y) >= 32 and ord(y) < 126]))\n",
    "FullData.to_csv('/home/anantgupta/Documents/Programming/Projects/situationalAwareness/SAProject/data/kaggle/uciNews_{}.txt'.format(fileCounter),index=False)\n",
    "fileCounter=fileCounter + 1"
   ]
  }
 ],
 "metadata": {
  "kernelspec": {
   "display_name": "Python 2",
   "language": "python",
   "name": "python2"
  },
  "language_info": {
   "codemirror_mode": {
    "name": "ipython",
    "version": 2
   },
   "file_extension": ".py",
   "mimetype": "text/x-python",
   "name": "python",
   "nbconvert_exporter": "python",
   "pygments_lexer": "ipython2",
   "version": "2.7.3"
  }
 },
 "nbformat": 4,
 "nbformat_minor": 2
}
