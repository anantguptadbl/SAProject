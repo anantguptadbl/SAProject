{
 "cells": [
  {
   "cell_type": "code",
   "execution_count": 86,
   "metadata": {},
   "outputs": [],
   "source": [
    "import pandas as pd\n",
    "from selenium import webdriver\n",
    "import os\n",
    "import time\n",
    "import urllib2\n",
    "from bs4 import BeautifulSoup\n",
    "\n",
    "news=pd.read_csv('/home/anantgupta/Documents/Programming/Projects/situationalAwareness/SAProject/data/kaggle/uci-news-aggregator.csv')"
   ]
  },
  {
   "cell_type": "code",
   "execution_count": 72,
   "metadata": {},
   "outputs": [],
   "source": [
    "path_to_phatomJS='/home/anantgupta/Documents/Programming/Projects/situationalAwareness/SAProject/flaskapp/phantomjs'\n",
    "\n",
    "def getPageData(URL):\n",
    "    browser = webdriver.PhantomJS(executable_path = path_to_phatomJS,service_log_path=os.path.devnull)\n",
    "    browser.get(URL)\n",
    "    pageContents=browser.page_source\n",
    "    browser.close()\n",
    "    browser.quit()\n",
    "    return(pageContents)\n",
    "\n",
    "def getTextData(URL):\n",
    "    FullData=[]\n",
    "    pageContents=getPageData(URL)\n",
    "    if(len(pageContents) > 400):\n",
    "        soup = BeautifulSoup(pageContents, \"html.parser\")\n",
    "        ignoreList=['html','head','script','meta','link','style','body','header','img']\n",
    "        ignoreWords=['CDATA','function']\n",
    "        for x in soup.find_all():\n",
    "            if(x.name not in ignoreList):\n",
    "                if(len(x.text) > 200 and 'CDATA' not in x.text and 'function' not in x.text):\n",
    "                    FullData.append(' '.join(x.text.strip().replace('\\n',' ').split()))\n",
    "        FullData=list(set(FullData))\n",
    "    return(FullData)"
   ]
  },
  {
   "cell_type": "code",
   "execution_count": 85,
   "metadata": {
    "collapsed": true
   },
   "outputs": [
    {
     "name": "stdout",
     "output_type": "stream",
     "text": [
      "There is some error. Will sleep for 30 seconds\n",
      "There is some error. Will sleep for 30 seconds\n"
     ]
    },
    {
     "name": "stderr",
     "output_type": "stream",
     "text": [
      "ERROR:root:Internal Python error in the inspect module.\n",
      "Below is the traceback from this internal error.\n",
      "\n"
     ]
    },
    {
     "name": "stdout",
     "output_type": "stream",
     "text": [
      "Traceback (most recent call last):\n",
      "  File \"/home/anantgupta/.conda/envs/python2/lib/python2.7/site-packages/IPython/core/ultratb.py\", line 1132, in get_records\n",
      "    return _fixed_getinnerframes(etb, number_of_lines_of_context, tb_offset)\n",
      "  File \"/home/anantgupta/.conda/envs/python2/lib/python2.7/site-packages/IPython/core/ultratb.py\", line 313, in wrapped\n",
      "    return f(*args, **kwargs)\n",
      "  File \"/home/anantgupta/.conda/envs/python2/lib/python2.7/site-packages/IPython/core/ultratb.py\", line 358, in _fixed_getinnerframes\n",
      "    records = fix_frame_records_filenames(inspect.getinnerframes(etb, context))\n",
      "  File \"/home/anantgupta/.conda/envs/python2/lib/python2.7/inspect.py\", line 1043, in getinnerframes\n",
      "    framelist.append((tb.tb_frame,) + getframeinfo(tb, context))\n",
      "  File \"/home/anantgupta/.conda/envs/python2/lib/python2.7/inspect.py\", line 1003, in getframeinfo\n",
      "    filename = getsourcefile(frame) or getfile(frame)\n",
      "  File \"/home/anantgupta/.conda/envs/python2/lib/python2.7/inspect.py\", line 451, in getsourcefile\n",
      "    if os.path.exists(filename):\n",
      "  File \"/home/anantgupta/.conda/envs/python2/lib/python2.7/genericpath.py\", line 18, in exists\n"
     ]
    },
    {
     "name": "stderr",
     "output_type": "stream",
     "text": [
      "\n",
      "KeyboardInterrupt\n",
      "\n"
     ]
    }
   ],
   "source": [
    "import time\n",
    "FullData=pd.DataFrame(columns=['text','link'])\n",
    "fileCounter=0\n",
    "for link in news['URL'].values:\n",
    "    try:\n",
    "        data=pd.DataFrame(getTextData(link),columns=['text'])\n",
    "        data['link']=link\n",
    "        FullData=pd.concat([FullData,data])\n",
    "        if(FullData.shape[0] > 100000):\n",
    "            print(\"Writing to file {} with shape {}\".format(fileCounter,FullData.shape[0]))\n",
    "            FullData['text']=FullData['text'].map(lambda x : ''.join([y for y in x if ord(y) >= 32 and ord(y) < 126]))\n",
    "            FullData.to_csv('/home/anantgupta/Documents/Programming/Projects/situationalAwareness/SAProject/data/kaggle/uciNews_{}.txt'.format(fileCounter),index=False)\n",
    "            FullData=pd.DataFrame(columns=['text','link'])\n",
    "            fileCounter=fileCounter + 1\n",
    "            print(\"Written to file\")\n",
    "    except:\n",
    "        print(\"There is some error. Will sleep for 30 seconds\")\n",
    "        time.sleep(30)\n",
    "print(\"Writing to file {} with shape {}\".format(fileCounter,FullData.shape[0]))        \n",
    "FullData['text']=FullData['text'].map(lambda x : ''.join([y for y in x if ord(y) >= 32 and ord(y) < 126]))\n",
    "FullData.to_csv('/home/anantgupta/Documents/Programming/Projects/situationalAwareness/SAProject/data/kaggle/uciNews_{}.txt'.format(fileCounter),index=False)\n",
    "fileCounter=fileCounter + 1"
   ]
  }
 ],
 "metadata": {
  "kernelspec": {
   "display_name": "Python 2",
   "language": "python",
   "name": "python2"
  },
  "language_info": {
   "codemirror_mode": {
    "name": "ipython",
    "version": 2
   },
   "file_extension": ".py",
   "mimetype": "text/x-python",
   "name": "python",
   "nbconvert_exporter": "python",
   "pygments_lexer": "ipython2",
   "version": "2.7.3"
  }
 },
 "nbformat": 4,
 "nbformat_minor": 2
}
